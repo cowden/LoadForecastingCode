{
 "cells": [
  {
   "cell_type": "code",
   "execution_count": 1,
   "metadata": {
    "collapsed": false
   },
   "outputs": [
    {
     "name": "stderr",
     "output_type": "stream",
     "text": [
      "/Users/dueheelee/anaconda/lib/python2.7/site-packages/pandas/core/frame.py:2524: SettingWithCopyWarning: \n",
      "A value is trying to be set on a copy of a slice from a DataFrame\n",
      "\n",
      "See the the caveats in the documentation: http://pandas.pydata.org/pandas-docs/stable/indexing.html#indexing-view-versus-copy\n",
      "  **kwargs)\n",
      "/Users/dueheelee/anaconda/lib/python2.7/site-packages/ipykernel/__main__.py:1157: SettingWithCopyWarning: \n",
      "A value is trying to be set on a copy of a slice from a DataFrame.\n",
      "Try using .loc[row_indexer,col_indexer] = value instead\n",
      "\n",
      "See the the caveats in the documentation: http://pandas.pydata.org/pandas-docs/stable/indexing.html#indexing-view-versus-copy\n",
      "/Users/dueheelee/anaconda/lib/python2.7/site-packages/ipykernel/__main__.py:1158: SettingWithCopyWarning: \n",
      "A value is trying to be set on a copy of a slice from a DataFrame.\n",
      "Try using .loc[row_indexer,col_indexer] = value instead\n",
      "\n",
      "See the the caveats in the documentation: http://pandas.pydata.org/pandas-docs/stable/indexing.html#indexing-view-versus-copy\n"
     ]
    },
    {
     "name": "stdout",
     "output_type": "stream",
     "text": [
      "2016-03-28 2016-04-01\n",
      "2016-04-01   CV Final   [ 3.44452293] 3.44452293056\n",
      "2016-03-29 2016-04-02\n",
      "2016-04-02   CV Final   [ 4.00652153] 4.00652153333\n",
      "2016-03-30 2016-04-03\n",
      "2016-04-03   CV Final   [ 4.931003] 4.93100299722\n",
      "2016-03-31 2016-04-04\n",
      "2016-04-04   CV Final   [ 3.62467794] 3.62467793611\n",
      "2016-04-01 2016-04-05\n",
      "2016-04-05   CV Final   [ 4.22241569] 4.22241568889\n",
      "2016-04-02 2016-04-06\n",
      "2016-04-06   CV Final   [ 4.1269069] 4.12690690278\n",
      "2016-04-03 2016-04-07\n",
      "2016-04-07   CV Final   [ 3.99616535] 3.99616534722\n",
      "2016-04-04 2016-04-08\n",
      "2016-04-08   CV Final   [ 3.7738056] 3.77380559861\n",
      "2016-04-05 2016-04-09\n",
      "2016-04-09   CV Final   [ 3.38542168] 3.38542168056\n",
      "2016-04-06 2016-04-10\n",
      "2016-04-10   CV Final   [ 4.17913942] 4.17913942222\n",
      "    \n",
      "[ 3.969058]\n",
      "    \n",
      "3.96905800375   /   4.43770191667   /   4.20337996021\n"
     ]
    }
   ],
   "source": [
    "execfile('P18.py')"
   ]
  },
  {
   "cell_type": "code",
   "execution_count": null,
   "metadata": {
    "collapsed": true
   },
   "outputs": [],
   "source": []
  }
 ],
 "metadata": {
  "kernelspec": {
   "display_name": "Python 2",
   "language": "python",
   "name": "python2"
  },
  "language_info": {
   "codemirror_mode": {
    "name": "ipython",
    "version": 2
   },
   "file_extension": ".py",
   "mimetype": "text/x-python",
   "name": "python",
   "nbconvert_exporter": "python",
   "pygments_lexer": "ipython2",
   "version": "2.7.11"
  }
 },
 "nbformat": 4,
 "nbformat_minor": 0
}
